{
 "cells": [
  {
   "cell_type": "code",
   "execution_count": 1,
   "metadata": {},
   "outputs": [],
   "source": [
    "import numpy as np\n",
    "import pandas as pd\n",
    "\n",
    "from utils import nan_gmean, METATHERIAN_ORDERS"
   ]
  },
  {
   "cell_type": "code",
   "execution_count": 2,
   "metadata": {},
   "outputs": [
    {
     "data": {
      "text/plain": [
       "['Kingdom',\n",
       " 'Phylum',\n",
       " 'Class',\n",
       " 'Order',\n",
       " 'Family',\n",
       " 'Genus',\n",
       " 'Species',\n",
       " 'Common name',\n",
       " 'Female maturity (days)',\n",
       " 'Male maturity (days)',\n",
       " 'Gestation/Incubation (days)',\n",
       " 'Weaning (days)',\n",
       " 'Litter/Clutch size',\n",
       " 'Litters/Clutches per year',\n",
       " 'Inter-litter/Interbirth interval',\n",
       " 'Birth weight (g)',\n",
       " 'Weaning weight (g)',\n",
       " 'Adult weight (g)',\n",
       " 'Growth rate (1/days)',\n",
       " 'Maximum longevity (yrs)',\n",
       " 'Source',\n",
       " 'Specimen origin',\n",
       " 'Sample size',\n",
       " 'Data quality',\n",
       " 'IMR (per yr)',\n",
       " 'MRDT (yrs)',\n",
       " 'Metabolic rate (W)',\n",
       " 'Body mass (g)',\n",
       " 'Temperature (K)',\n",
       " 'References']"
      ]
     },
     "execution_count": 2,
     "metadata": {},
     "output_type": "execute_result"
    }
   ],
   "source": [
    "# Load the data from the UN FAO DAD-IS DB\n",
    "# Domestic Animal Diversity Information System (DAD-IS)\n",
    "anage_df = pd.read_csv('../data/112321_anage_data.txt', sep='\\t', index_col=0)\n",
    "\n",
    "# Up-front: remove organisms that are not mammals.\n",
    "mask = anage_df.Class == 'Mammalia'\n",
    "anage_df = anage_df[mask]\n",
    "\n",
    "anage_df.columns.tolist()"
   ]
  },
  {
   "cell_type": "code",
   "execution_count": 3,
   "metadata": {},
   "outputs": [
    {
     "name": "stdout",
     "output_type": "stream",
     "text": [
      "Gestation/Incubation (days) 1024\n",
      "Weaning (days) 810\n",
      "Litter/Clutch size 1232\n",
      "Litters/Clutches per year 813\n",
      "Inter-litter/Interbirth interval 656\n",
      "Birth weight (g) 849\n",
      "Weaning weight (g) 405\n",
      "Adult weight (g) 1310\n",
      "Growth rate (1/days) 250\n",
      "Maximum longevity (yrs) 1012\n",
      "IMR (per yr) 15\n",
      "MRDT (yrs) 17\n",
      "Metabolic rate (W) 422\n",
      "Body mass (g) 422\n",
      "Temperature (K) 457\n"
     ]
    }
   ],
   "source": [
    "cols2count = ['Gestation/Incubation (days)',\n",
    " 'Weaning (days)',\n",
    " 'Litter/Clutch size',\n",
    " 'Litters/Clutches per year',\n",
    " 'Inter-litter/Interbirth interval',\n",
    " 'Birth weight (g)',\n",
    " 'Weaning weight (g)',\n",
    " 'Adult weight (g)',\n",
    " 'Growth rate (1/days)',\n",
    " 'Maximum longevity (yrs)',\n",
    " 'IMR (per yr)',\n",
    " 'MRDT (yrs)',\n",
    " 'Metabolic rate (W)',\n",
    " 'Body mass (g)',\n",
    " 'Temperature (K)']\n",
    "\n",
    "for c in cols2count:\n",
    "    print(c, (anage_df[c] > 0).sum())"
   ]
  },
  {
   "cell_type": "code",
   "execution_count": 4,
   "metadata": {},
   "outputs": [
    {
     "data": {
      "text/plain": [
       "(990, 37)"
      ]
     },
     "execution_count": 4,
     "metadata": {},
     "output_type": "execute_result"
    }
   ],
   "source": [
    "cols_of_interest = ['Gestation/Incubation (days)',\n",
    " 'Weaning (days)',\n",
    " 'Litter/Clutch size',\n",
    " 'Litters/Clutches per year',\n",
    " 'Inter-litter/Interbirth interval',\n",
    " 'Birth weight (g)',\n",
    " 'Weaning weight (g)',\n",
    " 'Adult weight (g)',\n",
    " 'Growth rate (1/days)',\n",
    " 'Maximum longevity (yrs)',\n",
    " 'IMR (per yr)',\n",
    " 'MRDT (yrs)',\n",
    " 'Metabolic rate (W)',\n",
    " 'Body mass (g)',\n",
    " 'Temperature (K)']\n",
    "\n",
    "# Zero values are non-sensical - should be NaN for log-scale plotting\n",
    "for c in cols_of_interest:\n",
    "    mask = anage_df[c] == 0\n",
    "    anage_df.loc[mask, c] = np.nan\n",
    "    \n",
    "# Drop everything that is missing data in all columns of interest. \n",
    "anage_df = anage_df.dropna(axis=0, how='all', subset=cols_of_interest)\n",
    "anage_df['Binomial Name'] = anage_df.Genus.str.strip(' ') + \" \" + anage_df.Species.str.strip(' ')\n",
    "\n",
    "# Mark the placental mammals, i.e. not monotremes or marsupials\n",
    "anage_df['PlacentalMammal'] = ~anage_df['Order'].isin(METATHERIAN_ORDERS)\n",
    "\n",
    "# Convert longevity data to months units to match AnAge\n",
    "anage_df['Maximum longevity (months)'] = 12*anage_df['Maximum longevity (yrs)']\n",
    "    \n",
    "# Calculate the number of young per year from the litter size and interval between litters.\n",
    "litter_size = anage_df['Litter/Clutch size']\n",
    "\n",
    "# Anage gives two values that can be used to infer litters/year.\n",
    "# 1/ Litters per year and 2/ Inter-litter interval\n",
    "# As can be seen in the plot below, these values are correlated but not the same.\n",
    "# Moreover, in some cases there is data for one and not the other.\n",
    "litters_per_year = anage_df['Litters/Clutches per year']\n",
    "interbirth_interval_d = anage_df['Inter-litter/Interbirth interval']\n",
    "litters_per_year_inferred = 365.0/interbirth_interval_d\n",
    "young_per_year_litters = litter_size / litters_per_year\n",
    "young_per_year_interval = litter_size / litters_per_year_inferred\n",
    "\n",
    "anage_df['YoungPerYear_Litters'] = young_per_year_litters\n",
    "anage_df['YoungPerYear_Interval'] = young_per_year_interval\n",
    "\n",
    "gmeans = pd.concat([young_per_year_litters, young_per_year_interval], axis=1).apply(nan_gmean, axis=1)\n",
    "anage_df['YoungPerYear_Estimated'] = gmeans\n",
    "\n",
    "neonate_mass_g = anage_df['Birth weight (g)']\n",
    "anage_df['YoungMassPerYear_Estimated (g)'] = neonate_mass_g*gmeans\n",
    "\n",
    "# remove the lower-quality data from the cleaned dataset\n",
    "quality_mask = anage_df['Data quality'].isin('acceptable,high'.split(','))\n",
    "anage_clean_df = anage_df[quality_mask].copy()\n",
    "\n",
    "# Save a new cleaner file with units for the relevant columns.\n",
    "anage_clean_df.to_csv('../data/112321_AnAge_cleaned.csv')\n",
    "anage_clean_df.shape"
   ]
  },
  {
   "cell_type": "code",
   "execution_count": 5,
   "metadata": {},
   "outputs": [],
   "source": [
    "from matplotlib import pyplot as plt \n",
    "import seaborn as sns"
   ]
  },
  {
   "cell_type": "code",
   "execution_count": 6,
   "metadata": {},
   "outputs": [
    {
     "data": {
      "image/png": "[encoded data removed]",
      "text/plain": [
       "<Figure size 432x288 with 1 Axes>"
      ]
     },
     "metadata": {
      "needs_background": "light"
     },
     "output_type": "display_data"
    }
   ],
   "source": [
    "# Check consistency of the two columns reporting on litter frequency\n",
    "mask = np.logical_and(anage_clean_df['Litters/Clutches per year'].notnull(),\n",
    "                      anage_clean_df['Inter-litter/Interbirth interval'].notnull())\n",
    "sub_df = anage_clean_df[mask]\n",
    "x, y = sub_df['Litters/Clutches per year'], 365.0/sub_df['Inter-litter/Interbirth interval']\n",
    "\n",
    "fig, ax = plt.subplots()\n",
    "plt.scatter(x, y, linewidth=0.5, edgecolor='w')\n",
    "plt.plot(np.arange(15), np.arange(15), ls='--', color='grey')\n",
    "r = np.corrcoef(x, y)[0,1]\n",
    "plt.text(0.05, 0.9, \"R = {0:.2f}\".format(r), transform=ax.transAxes)\n",
    "plt.xlabel('Litters/Clutches per year')\n",
    "plt.ylabel('365/(Inter-litter interval)')\n",
    "\n",
    "plt.show()\n",
    "\n",
    "# Looks like the inter-litter interval is more like the minimum inter-litter interval,\n",
    "# since it pretty consistently gives high litters-per-year than the reported value. "
   ]
  },
  {
   "cell_type": "code",
   "execution_count": 7,
   "metadata": {},
   "outputs": [
    {
     "data": {
      "text/plain": [
       "array(['Mammalia'], dtype=object)"
      ]
     },
     "execution_count": 7,
     "metadata": {},
     "output_type": "execute_result"
    }
   ],
   "source": [
    "anage_clean_df.Class.unique()"
   ]
  },
  {
   "cell_type": "code",
   "execution_count": null,
   "metadata": {},
   "outputs": [],
   "source": []
  }
 ],
 "metadata": {
  "kernelspec": {
   "display_name": "Python 3",
   "language": "python",
   "name": "python3"
  },
  "language_info": {
   "codemirror_mode": {
    "name": "ipython",
    "version": 3
   },
   "file_extension": ".py",
   "mimetype": "text/x-python",
   "name": "python",
   "nbconvert_exporter": "python",
   "pygments_lexer": "ipython3",
   "version": "3.8.2"
  }
 },
 "nbformat": 4,
 "nbformat_minor": 4
}
